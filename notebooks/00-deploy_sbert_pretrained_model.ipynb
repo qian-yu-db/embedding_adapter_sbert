{
 "cells": [
  {
   "cell_type": "markdown",
   "metadata": {
    "application/vnd.databricks.v1+cell": {
     "cellMetadata": {
      "byteLimit": 2048000,
      "rowLimit": 10000
     },
     "inputWidgets": {},
     "nuid": "d6fb55e9-9812-424b-9509-b3bf9759dcd5",
     "showTitle": false,
     "tableResultSettingsMap": {},
     "title": ""
    }
   },
   "source": [
    "\n",
    "# The Notebook will Deploy a Pretrained Sentence Transformer Model to Model Serving\n",
    "\n",
    "**NOTE**: Need to use 14.3 ML LTS to avoid python `snappy-c.h` related issue when perform model deployment"
   ]
  },
  {
   "cell_type": "code",
   "execution_count": 0,
   "metadata": {
    "application/vnd.databricks.v1+cell": {
     "cellMetadata": {
      "byteLimit": 2048000,
      "rowLimit": 10000
     },
     "inputWidgets": {},
     "nuid": "1955dee8-cb13-42af-b128-ca0a556f5e3a",
     "showTitle": false,
     "tableResultSettingsMap": {},
     "title": ""
    }
   },
   "outputs": [],
   "source": [
    "%pip install -U databricks-sdk\n",
    "%pip install -U sentence-transformers\n",
    "%pip install -U mlflow\n",
    "%pip install python-snappy==0.7.3\n",
    "%pip install einops\n",
    "%pip install torch==2.4.0 torchvision==0.19.0\n",
    "dbutils.library.restartPython()"
   ]
  },
  {
   "cell_type": "code",
   "execution_count": 0,
   "metadata": {
    "application/vnd.databricks.v1+cell": {
     "cellMetadata": {
      "byteLimit": 2048000,
      "rowLimit": 10000
     },
     "inputWidgets": {},
     "nuid": "98b56324-3d6f-41a4-8e27-0446c80ba8e9",
     "showTitle": false,
     "tableResultSettingsMap": {},
     "title": ""
    }
   },
   "outputs": [],
   "source": [
    "dbutils.widgets.text(name=\"target_catalog\", label=\"Catalog\", defaultValue=\"dev_catalog\")\n",
    "dbutils.widgets.text(name=\"target_schema\", label=\"Schema\", defaultValue=\"dev_schema\")\n",
    "dbutils.widgets.text(name=\"embedding_model\", label=\"Embedding model\", defaultValue=\"Snowflake/snowflake-arctic-embed-m-long\")"
   ]
  },
  {
   "cell_type": "code",
   "execution_count": 0,
   "metadata": {
    "application/vnd.databricks.v1+cell": {
     "cellMetadata": {
      "byteLimit": 2048000,
      "rowLimit": 10000
     },
     "inputWidgets": {},
     "nuid": "7bf2aea0-2c90-495a-bfaa-e98d007ba2b9",
     "showTitle": false,
     "tableResultSettingsMap": {},
     "title": ""
    }
   },
   "outputs": [],
   "source": [
    "target_catalog = dbutils.widgets.get(\"target_catalog\")\n",
    "target_schema = dbutils.widgets.get(\"target_schema\")\n",
    "embedding_model = dbutils.widgets.get(\"embedding_model\")\n",
    "print(f\"target catalog: {target_catalog}, target schema: {target_schema}, embedding model: {embedding_model}\")"
   ]
  },
  {
   "cell_type": "markdown",
   "metadata": {
    "application/vnd.databricks.v1+cell": {
     "cellMetadata": {
      "byteLimit": 2048000,
      "rowLimit": 10000
     },
     "inputWidgets": {},
     "nuid": "535cd343-fd99-45dd-a1f1-3b48ee3267a5",
     "showTitle": false,
     "tableResultSettingsMap": {},
     "title": ""
    }
   },
   "source": [
    "# Download the Pretrained Embedding Model from HuggingFace"
   ]
  },
  {
   "cell_type": "code",
   "execution_count": 0,
   "metadata": {
    "application/vnd.databricks.v1+cell": {
     "cellMetadata": {
      "byteLimit": 2048000,
      "rowLimit": 10000
     },
     "inputWidgets": {},
     "nuid": "6c1946b1-46b5-4be1-b3be-f7f65a312044",
     "showTitle": false,
     "tableResultSettingsMap": {},
     "title": ""
    }
   },
   "outputs": [],
   "source": [
    "from sentence_transformers import SentenceTransformer\n",
    "import pandas as pd\n",
    "import torch"
   ]
  },
  {
   "cell_type": "code",
   "execution_count": 0,
   "metadata": {
    "application/vnd.databricks.v1+cell": {
     "cellMetadata": {
      "byteLimit": 2048000,
      "rowLimit": 10000
     },
     "inputWidgets": {},
     "nuid": "afaaa4fd-5ee8-4b43-ba40-b1d56ce0ca91",
     "showTitle": false,
     "tableResultSettingsMap": {},
     "title": ""
    }
   },
   "outputs": [],
   "source": [
    "model = SentenceTransformer(embedding_model, trust_remote_code=True)\n",
    "\n",
    "# Define the queries and documents\n",
    "documents = ['The Data Cloud!', 'Mexico City of Course!']\n",
    "document_embeddings = model.encode(documents)\n",
    "document_embeddings"
   ]
  },
  {
   "cell_type": "code",
   "execution_count": 0,
   "metadata": {
    "application/vnd.databricks.v1+cell": {
     "cellMetadata": {
      "byteLimit": 2048000,
      "rowLimit": 10000
     },
     "inputWidgets": {},
     "nuid": "0922ae7d-b860-4281-9d4b-e2956a6d30f7",
     "showTitle": false,
     "tableResultSettingsMap": {},
     "title": ""
    }
   },
   "outputs": [],
   "source": [
    "model_name = embedding_model.split('/')[-1].replace('.', 'p')\n",
    "model_uc_path = f'{target_catalog}.{target_schema}.{model_name}'\n",
    "endpoint_name = model_name\n",
    "workload_type = \"GPU_SMALL\"\n",
    "\n",
    "spark.sql(f\"USE CATALOG {target_catalog}\")\n",
    "spark.sql(f\"USE SCHEMA {target_schema}\")"
   ]
  },
  {
   "cell_type": "code",
   "execution_count": 0,
   "metadata": {
    "application/vnd.databricks.v1+cell": {
     "cellMetadata": {
      "byteLimit": 2048000,
      "rowLimit": 10000
     },
     "inputWidgets": {},
     "nuid": "4a0186b8-9915-4ef6-a293-c6603ace699d",
     "showTitle": false,
     "tableResultSettingsMap": {},
     "title": ""
    }
   },
   "outputs": [],
   "source": [
    "import mlflow\n",
    "from mlflow.models import infer_signature\n",
    "from mlflow.tracking import MlflowClient\n",
    "\n",
    "#mlflow.set_experiment(\"/Workspace/Users/q.yu@databricks.com/ml_experiments\")\n",
    "\n",
    "signature = mlflow.models.infer_signature(\n",
    "    model_input=documents,\n",
    "    model_output=model.encode(documents),\n",
    ")\n",
    "\n",
    "mlflow.set_registry_uri(\"databricks-uc\")\n",
    "\n",
    "with mlflow.start_run():\n",
    "    logged_model_info = mlflow.sentence_transformers.log_model(\n",
    "        model=model,\n",
    "        artifact_path='custom_embedding',\n",
    "        registered_model_name=model_uc_path,\n",
    "        signature=signature,\n",
    "        input_example=documents\n",
    "    )"
   ]
  },
  {
   "cell_type": "markdown",
   "metadata": {
    "application/vnd.databricks.v1+cell": {
     "cellMetadata": {
      "byteLimit": 2048000,
      "rowLimit": 10000
     },
     "inputWidgets": {},
     "nuid": "9b0150ce-b773-4e7a-84e5-8b5c94192814",
     "showTitle": false,
     "tableResultSettingsMap": {},
     "title": ""
    }
   },
   "source": [
    "# Serving the model with Model Serving"
   ]
  },
  {
   "cell_type": "code",
   "execution_count": 0,
   "metadata": {
    "application/vnd.databricks.v1+cell": {
     "cellMetadata": {
      "byteLimit": 2048000,
      "rowLimit": 10000
     },
     "inputWidgets": {},
     "nuid": "6cd3b15b-3580-4235-ad06-05212e0fe8af",
     "showTitle": false,
     "tableResultSettingsMap": {},
     "title": ""
    }
   },
   "outputs": [],
   "source": [
    "# Create or update serving endpoint\n",
    "from databricks.sdk import WorkspaceClient\n",
    "from databricks.sdk.service.serving import EndpointCoreConfigInput, ServedModelInput\n",
    "\n",
    "config = EndpointCoreConfigInput.from_dict({\n",
    "    \"served_models\": [\n",
    "        {\n",
    "            \"name\": endpoint_name,\n",
    "            \"model_name\": model_uc_path,\n",
    "            \"model_version\": logged_model_info.registered_model_version,\n",
    "            \"workload_type\": workload_type,\n",
    "            \"workload_size\": \"Small\",\n",
    "            \"scale_to_zero_enabled\": \"True\",\n",
    "        }\n",
    "    ]\n",
    "})"
   ]
  },
  {
   "cell_type": "code",
   "execution_count": 0,
   "metadata": {
    "application/vnd.databricks.v1+cell": {
     "cellMetadata": {
      "byteLimit": 2048000,
      "rowLimit": 10000
     },
     "inputWidgets": {},
     "nuid": "e3a01319-8027-4d59-81c1-aad5e05ad38c",
     "showTitle": false,
     "tableResultSettingsMap": {},
     "title": ""
    }
   },
   "outputs": [],
   "source": [
    "import datetime\n",
    "from databricks.sdk import WorkspaceClient\n",
    "\n",
    "w = WorkspaceClient()\n",
    "w.serving_endpoints.create_and_wait(name=endpoint_name, \n",
    "                                    config=config, \n",
    "                                    timeout=datetime.timedelta(minutes=30))"
   ]
  }
 ],
 "metadata": {
  "application/vnd.databricks.v1+notebook": {
   "computePreferences": null,
   "dashboards": [],
   "environmentMetadata": {
    "base_environment": "",
    "client": "1"
   },
   "language": "python",
   "notebookMetadata": {
    "pythonIndentUnit": 4
   },
   "notebookName": "00-deploy_sbert_pretrained_model",
   "widgets": {
    "embedding_model": {
     "currentValue": "Snowflake/snowflake-arctic-embed-m-long",
     "nuid": "e715794d-251c-4591-a27b-d9d0e8b2a018",
     "typedWidgetInfo": {
      "autoCreated": false,
      "defaultValue": "Snowflake/snowflake-arctic-embed-m-long",
      "label": "Embedding model",
      "name": "embedding_model",
      "options": {
       "validationRegex": null,
       "widgetDisplayType": "Text"
      },
      "parameterDataType": "String"
     },
     "widgetInfo": {
      "defaultValue": "Snowflake/snowflake-arctic-embed-m-long",
      "label": "Embedding model",
      "name": "embedding_model",
      "options": {
       "autoCreated": null,
       "validationRegex": null,
       "widgetType": "text"
      },
      "widgetType": "text"
     }
    },
    "target_catalog": {
     "currentValue": "tax_dev",
     "nuid": "eefb3586-8062-4047-aa30-edf8ccdeeb60",
     "typedWidgetInfo": {
      "autoCreated": false,
      "defaultValue": "tax_dev",
      "label": "Catalog",
      "name": "target_catalog",
      "options": {
       "validationRegex": null,
       "widgetDisplayType": "Text"
      },
      "parameterDataType": "String"
     },
     "widgetInfo": {
      "defaultValue": "tax_dev",
      "label": "Catalog",
      "name": "target_catalog",
      "options": {
       "autoCreated": null,
       "validationRegex": null,
       "widgetType": "text"
      },
      "widgetType": "text"
     }
    },
    "target_schema": {
     "currentValue": "databricks_team",
     "nuid": "26876773-34ed-49c9-ad86-ad989d744f7e",
     "typedWidgetInfo": {
      "autoCreated": false,
      "defaultValue": "databricks_team",
      "label": "Schema",
      "name": "target_schema",
      "options": {
       "validationRegex": null,
       "widgetDisplayType": "Text"
      },
      "parameterDataType": "String"
     },
     "widgetInfo": {
      "defaultValue": "databricks_team",
      "label": "Schema",
      "name": "target_schema",
      "options": {
       "autoCreated": null,
       "validationRegex": null,
       "widgetType": "text"
      },
      "widgetType": "text"
     }
    }
   }
  },
  "language_info": {
   "name": "python"
  }
 },
 "nbformat": 4,
 "nbformat_minor": 0
}
