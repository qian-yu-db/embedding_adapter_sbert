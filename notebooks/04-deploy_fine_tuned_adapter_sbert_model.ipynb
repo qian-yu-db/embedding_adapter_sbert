{
 "cells": [
  {
   "cell_type": "markdown",
   "metadata": {
    "application/vnd.databricks.v1+cell": {
     "cellMetadata": {
      "byteLimit": 2048000,
      "rowLimit": 10000
     },
     "inputWidgets": {},
     "nuid": "d6fb55e9-9812-424b-9509-b3bf9759dcd5",
     "showTitle": false,
     "tableResultSettingsMap": {},
     "title": ""
    }
   },
   "source": [
    "\n",
    "# The Notebook will Deploy a Fine-tuned Adapter + Base SBERT Model\n",
    "\n",
    "**NOTE**: \n",
    "* Need to use 14.3 ML LTS to avoid python `snappy-c.h` related issue when perform model deployment\n",
    "* Be sure to use the same model environment you used to log/registered the model"
   ]
  },
  {
   "cell_type": "code",
   "execution_count": 0,
   "metadata": {
    "application/vnd.databricks.v1+cell": {
     "cellMetadata": {
      "byteLimit": 2048000,
      "rowLimit": 10000
     },
     "inputWidgets": {},
     "nuid": "1955dee8-cb13-42af-b128-ca0a556f5e3a",
     "showTitle": false,
     "tableResultSettingsMap": {},
     "title": ""
    }
   },
   "outputs": [],
   "source": [
    "%pip install -U databricks-sdk\n",
    "%pip install -U sentence-transformers\n",
    "%pip install -U mlflow\n",
    "%pip install python-snappy==0.7.3\n",
    "%pip install einops\n",
    "%pip install torch==2.4.0 torchvision==0.19.0\n",
    "dbutils.library.restartPython()"
   ]
  },
  {
   "cell_type": "code",
   "execution_count": 0,
   "metadata": {
    "application/vnd.databricks.v1+cell": {
     "cellMetadata": {
      "byteLimit": 2048000,
      "rowLimit": 10000
     },
     "inputWidgets": {},
     "nuid": "98b56324-3d6f-41a4-8e27-0446c80ba8e9",
     "showTitle": false,
     "tableResultSettingsMap": {},
     "title": ""
    }
   },
   "outputs": [],
   "source": [
    "dbutils.widgets.text(name=\"target_catalog\", label=\"Catalog\", defaultValue=\"dev_catalog\")\n",
    "dbutils.widgets.text(name=\"target_schema\", label=\"Schema\", defaultValue=\"dev_schema\")\n",
    "dbutils.widgets.text(name=\"ft_adapter_model\", label=\"Fine-tuned adapter model\", defaultValue=\"snowflake-arctic-embed-m-long-linear-adapter\")"
   ]
  },
  {
   "cell_type": "code",
   "execution_count": 0,
   "metadata": {
    "application/vnd.databricks.v1+cell": {
     "cellMetadata": {
      "byteLimit": 2048000,
      "rowLimit": 10000
     },
     "inputWidgets": {},
     "nuid": "7bf2aea0-2c90-495a-bfaa-e98d007ba2b9",
     "showTitle": false,
     "tableResultSettingsMap": {},
     "title": ""
    }
   },
   "outputs": [],
   "source": [
    "catalog = dbutils.widgets.get(\"target_catalog\")\n",
    "schema = dbutils.widgets.get(\"target_schema\")\n",
    "ft_adapter_model = dbutils.widgets.get(\"ft_adapter_model\")\n",
    "print(f\"catalog: {catalog}, schema: {schema}, embedding model: {ft_adapter_model}\")"
   ]
  },
  {
   "cell_type": "markdown",
   "metadata": {
    "application/vnd.databricks.v1+cell": {
     "cellMetadata": {
      "byteLimit": 2048000,
      "rowLimit": 10000
     },
     "inputWidgets": {},
     "nuid": "535cd343-fd99-45dd-a1f1-3b48ee3267a5",
     "showTitle": false,
     "tableResultSettingsMap": {},
     "title": ""
    }
   },
   "source": [
    "# Download the Pretrained Embedding Model from HuggingFace"
   ]
  },
  {
   "cell_type": "code",
   "execution_count": 0,
   "metadata": {
    "application/vnd.databricks.v1+cell": {
     "cellMetadata": {
      "byteLimit": 2048000,
      "rowLimit": 10000
     },
     "inputWidgets": {},
     "nuid": "6c1946b1-46b5-4be1-b3be-f7f65a312044",
     "showTitle": false,
     "tableResultSettingsMap": {},
     "title": ""
    }
   },
   "outputs": [],
   "source": [
    "from sentence_transformers import SentenceTransformer\n",
    "import pandas as pd\n",
    "import torch"
   ]
  },
  {
   "cell_type": "code",
   "execution_count": 0,
   "metadata": {
    "application/vnd.databricks.v1+cell": {
     "cellMetadata": {
      "byteLimit": 2048000,
      "rowLimit": 10000
     },
     "inputWidgets": {},
     "nuid": "fc046345-4bd6-49cb-ba85-0eb8abb4626a",
     "showTitle": false,
     "tableResultSettingsMap": {},
     "title": ""
    }
   },
   "outputs": [],
   "source": [
    "from mlflow.tracking import MlflowClient\n",
    "\n",
    "def get_latest_model_version(model_name):\n",
    "  client = MlflowClient()\n",
    "  model_version_infos = client.search_model_versions(f\"name = '{model_name}'\")\n",
    "  return max([int(model_version_info.version) for model_version_info in model_version_infos])\n",
    "\n",
    "# If instructor needs to update the model, the schema needs to change to SHARED_SCHEMA\n",
    "latest_model_version = get_latest_model_version(f\"{catalog}.{schema}.{ft_adapter_model}\")\n",
    "print(f\"To deploy {ft_adapter_model}/{latest_model_version}\")"
   ]
  },
  {
   "cell_type": "markdown",
   "metadata": {
    "application/vnd.databricks.v1+cell": {
     "cellMetadata": {},
     "inputWidgets": {},
     "nuid": "aa76f399-283e-474c-a61a-08a9892c28d2",
     "showTitle": false,
     "tableResultSettingsMap": {},
     "title": ""
    }
   },
   "source": [
    "# Load Fine-tuned Adapter to Test"
   ]
  },
  {
   "cell_type": "code",
   "execution_count": 0,
   "metadata": {
    "application/vnd.databricks.v1+cell": {
     "cellMetadata": {
      "byteLimit": 2048000,
      "rowLimit": 10000
     },
     "inputWidgets": {},
     "nuid": "0922ae7d-b860-4281-9d4b-e2956a6d30f7",
     "showTitle": false,
     "tableResultSettingsMap": {},
     "title": ""
    }
   },
   "outputs": [],
   "source": [
    "model_uc_path = f'{catalog}.{schema}.{ft_adapter_model}'\n",
    "endpoint_name = ft_adapter_model\n",
    "model_uri = f\"models:/{model_uc_path}/{latest_model_version}\"\n",
    "workload_type = \"GPU_SMALL\"\n",
    "\n",
    "spark.sql(f\"USE CATALOG {catalog}\")\n",
    "spark.sql(f\"USE SCHEMA {schema}\")"
   ]
  },
  {
   "cell_type": "code",
   "execution_count": 0,
   "metadata": {
    "application/vnd.databricks.v1+cell": {
     "cellMetadata": {
      "byteLimit": 2048000,
      "rowLimit": 10000
     },
     "inputWidgets": {},
     "nuid": "24b5bf7e-8778-4552-91e6-f7cd539639a2",
     "showTitle": false,
     "tableResultSettingsMap": {},
     "title": ""
    }
   },
   "outputs": [],
   "source": [
    "import mlflow\n",
    "\n",
    "load_sbert_model = mlflow.sentence_transformers.load_model(model_uri)"
   ]
  },
  {
   "cell_type": "code",
   "execution_count": 0,
   "metadata": {
    "application/vnd.databricks.v1+cell": {
     "cellMetadata": {
      "byteLimit": 2048000,
      "rowLimit": 10000
     },
     "inputWidgets": {},
     "nuid": "b5275d15-1fa1-4aaa-99ff-dd6eaf72aa76",
     "showTitle": false,
     "tableResultSettingsMap": {},
     "title": ""
    }
   },
   "outputs": [],
   "source": [
    "load_sbert_model.encode([\"Hello world\", \"This is a test\"])"
   ]
  },
  {
   "cell_type": "markdown",
   "metadata": {
    "application/vnd.databricks.v1+cell": {
     "cellMetadata": {
      "byteLimit": 2048000,
      "rowLimit": 10000
     },
     "inputWidgets": {},
     "nuid": "9b0150ce-b773-4e7a-84e5-8b5c94192814",
     "showTitle": false,
     "tableResultSettingsMap": {},
     "title": ""
    }
   },
   "source": [
    "# Serving the model with Model Serving"
   ]
  },
  {
   "cell_type": "code",
   "execution_count": 0,
   "metadata": {
    "application/vnd.databricks.v1+cell": {
     "cellMetadata": {
      "byteLimit": 2048000,
      "rowLimit": 10000
     },
     "inputWidgets": {},
     "nuid": "6cd3b15b-3580-4235-ad06-05212e0fe8af",
     "showTitle": false,
     "tableResultSettingsMap": {},
     "title": ""
    }
   },
   "outputs": [],
   "source": [
    "# Create or update serving endpoint\n",
    "from databricks.sdk import WorkspaceClient\n",
    "from databricks.sdk.service.serving import EndpointCoreConfigInput, ServedModelInput\n",
    "\n",
    "config = EndpointCoreConfigInput.from_dict({\n",
    "    \"served_models\": [\n",
    "        {\n",
    "            \"name\": endpoint_name,\n",
    "            \"model_name\": model_uc_path,\n",
    "            \"model_version\": latest_model_version,\n",
    "            \"workload_type\": workload_type,\n",
    "            \"workload_size\": \"Small\",\n",
    "            \"scale_to_zero_enabled\": \"True\",\n",
    "        }\n",
    "    ]\n",
    "})"
   ]
  },
  {
   "cell_type": "code",
   "execution_count": 0,
   "metadata": {
    "application/vnd.databricks.v1+cell": {
     "cellMetadata": {
      "byteLimit": 2048000,
      "rowLimit": 10000
     },
     "inputWidgets": {},
     "nuid": "e3a01319-8027-4d59-81c1-aad5e05ad38c",
     "showTitle": false,
     "tableResultSettingsMap": {},
     "title": ""
    }
   },
   "outputs": [],
   "source": [
    "import datetime\n",
    "from databricks.sdk import WorkspaceClient\n",
    "\n",
    "w = WorkspaceClient()\n",
    "w.serving_endpoints.create_and_wait(name=endpoint_name, \n",
    "                                    config=config, \n",
    "                                    timeout=datetime.timedelta(minutes=30))"
   ]
  },
  {
   "cell_type": "code",
   "execution_count": 0,
   "metadata": {
    "application/vnd.databricks.v1+cell": {
     "cellMetadata": {},
     "inputWidgets": {},
     "nuid": "c7278c0a-16f6-4d96-8f4c-3cc3882d9482",
     "showTitle": false,
     "tableResultSettingsMap": {},
     "title": ""
    }
   },
   "outputs": [],
   "source": []
  }
 ],
 "metadata": {
  "application/vnd.databricks.v1+notebook": {
   "computePreferences": null,
   "dashboards": [],
   "environmentMetadata": {
    "base_environment": "",
    "client": "1"
   },
   "language": "python",
   "notebookMetadata": {
    "pythonIndentUnit": 4
   },
   "notebookName": "04-deploy_fine_tuned_adapter_sbert_model",
   "widgets": {
    "ft_adapter_model": {
     "currentValue": "snowflake-arctic-embed-m-long-linear-adapter_test",
     "nuid": "e1cacdb0-45d7-49bb-851c-7b531c0d9682",
     "typedWidgetInfo": {
      "autoCreated": false,
      "defaultValue": "snowflake-arctic-embed-m-long-linear-adapter",
      "label": "Fine-tuned adapter model",
      "name": "ft_adapter_model",
      "options": {
       "validationRegex": null,
       "widgetDisplayType": "Text"
      },
      "parameterDataType": "String"
     },
     "widgetInfo": {
      "defaultValue": "snowflake-arctic-embed-m-long-linear-adapter",
      "label": "Fine-tuned adapter model",
      "name": "ft_adapter_model",
      "options": {
       "autoCreated": null,
       "validationRegex": null,
       "widgetType": "text"
      },
      "widgetType": "text"
     }
    },
    "target_catalog": {
     "currentValue": "tax_dev",
     "nuid": "eefb3586-8062-4047-aa30-edf8ccdeeb60",
     "typedWidgetInfo": {
      "autoCreated": false,
      "defaultValue": "tax_dev",
      "label": "Catalog",
      "name": "target_catalog",
      "options": {
       "validationRegex": null,
       "widgetDisplayType": "Text"
      },
      "parameterDataType": "String"
     },
     "widgetInfo": {
      "defaultValue": "tax_dev",
      "label": "Catalog",
      "name": "target_catalog",
      "options": {
       "autoCreated": null,
       "validationRegex": null,
       "widgetType": "text"
      },
      "widgetType": "text"
     }
    },
    "target_schema": {
     "currentValue": "databricks_team",
     "nuid": "26876773-34ed-49c9-ad86-ad989d744f7e",
     "typedWidgetInfo": {
      "autoCreated": false,
      "defaultValue": "databricks_team",
      "label": "Schema",
      "name": "target_schema",
      "options": {
       "validationRegex": null,
       "widgetDisplayType": "Text"
      },
      "parameterDataType": "String"
     },
     "widgetInfo": {
      "defaultValue": "databricks_team",
      "label": "Schema",
      "name": "target_schema",
      "options": {
       "autoCreated": null,
       "validationRegex": null,
       "widgetType": "text"
      },
      "widgetType": "text"
     }
    }
   }
  },
  "language_info": {
   "name": "python"
  }
 },
 "nbformat": 4,
 "nbformat_minor": 0
}
