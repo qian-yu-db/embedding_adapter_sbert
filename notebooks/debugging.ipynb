{
 "cells": [
  {
   "cell_type": "code",
   "execution_count": 0,
   "metadata": {
    "application/vnd.databricks.v1+cell": {
     "cellMetadata": {
      "byteLimit": 2048000,
      "rowLimit": 10000
     },
     "inputWidgets": {},
     "nuid": "32fdf512-f306-4771-bf81-c13d61329210",
     "showTitle": false,
     "tableResultSettingsMap": {},
     "title": ""
    }
   },
   "outputs": [],
   "source": [
    "%pip install -U databricks-sdk\n",
    "%pip install -U sentence-transformers\n",
    "%pip install -U mlflow\n",
    "%pip install python-snappy==0.7.3\n",
    "%pip install einops\n",
    "%pip install torch==2.4.0 torchvision==0.19.0\n",
    "dbutils.library.restartPython()"
   ]
  },
  {
   "cell_type": "code",
   "execution_count": 0,
   "metadata": {
    "application/vnd.databricks.v1+cell": {
     "cellMetadata": {
      "byteLimit": 2048000,
      "rowLimit": 10000
     },
     "inputWidgets": {},
     "nuid": "0d3757ef-64e0-47f0-b50c-163390013063",
     "showTitle": false,
     "tableResultSettingsMap": {},
     "title": ""
    }
   },
   "outputs": [],
   "source": [
    "catalog = \"tax_dev\"\n",
    "schema = \"databricks_team\"\n",
    "\n",
    "spark.sql(f\"USE CATALOG {catalog}\")\n",
    "spark.sql(f\"USE SCHEMA {schema}\")"
   ]
  },
  {
   "cell_type": "code",
   "execution_count": 0,
   "metadata": {
    "application/vnd.databricks.v1+cell": {
     "cellMetadata": {
      "byteLimit": 2048000,
      "rowLimit": 10000
     },
     "inputWidgets": {},
     "nuid": "fe0f24ff-3ebf-468e-b50b-d8f2fb82e6c6",
     "showTitle": false,
     "tableResultSettingsMap": {},
     "title": ""
    }
   },
   "outputs": [],
   "source": [
    "from mlflow.tracking import MlflowClient\n",
    "\n",
    "ft_adapter_model = \"snowflake-arctic-embed-m-long-linear-adapter\"\n",
    "model_uc_path = f'{catalog}.{schema}.{ft_adapter_model}'\n",
    "\n",
    "\n",
    "def get_latest_model_version(model_name):\n",
    "  client = MlflowClient()\n",
    "  model_version_infos = client.search_model_versions(f\"name = '{model_name}'\")\n",
    "  return max([int(model_version_info.version) for model_version_info in model_version_infos])\n",
    "\n",
    "# If instructor needs to update the model, the schema needs to change to SHARED_SCHEMA\n",
    "latest_model_version = get_latest_model_version(model_uc_path)"
   ]
  },
  {
   "cell_type": "code",
   "execution_count": 0,
   "metadata": {
    "application/vnd.databricks.v1+cell": {
     "cellMetadata": {
      "byteLimit": 2048000,
      "rowLimit": 10000
     },
     "inputWidgets": {},
     "nuid": "d2ede1e4-17d2-4e6b-85a0-f5ee90309cd3",
     "showTitle": false,
     "tableResultSettingsMap": {},
     "title": ""
    }
   },
   "outputs": [],
   "source": [
    "model_uri = f\"models:/{model_uc_path}/{latest_model_version}\"\n",
    "model_uri"
   ]
  },
  {
   "cell_type": "code",
   "execution_count": 0,
   "metadata": {
    "application/vnd.databricks.v1+cell": {
     "cellMetadata": {},
     "inputWidgets": {},
     "nuid": "2f24457f-0d3c-4886-97c2-a35a80b5f4e5",
     "showTitle": false,
     "tableResultSettingsMap": {},
     "title": ""
    }
   },
   "outputs": [],
   "source": [
    "import sentence_transformers"
   ]
  },
  {
   "cell_type": "code",
   "execution_count": 0,
   "metadata": {
    "application/vnd.databricks.v1+cell": {
     "cellMetadata": {
      "byteLimit": 2048000,
      "rowLimit": 10000
     },
     "inputWidgets": {},
     "nuid": "332484f0-3dcd-44e7-810d-7382c3a66e57",
     "showTitle": false,
     "tableResultSettingsMap": {},
     "title": ""
    }
   },
   "outputs": [],
   "source": [
    "from mlflow.utils.model_utils import (\n",
    "    _add_code_from_conf_to_system_path,\n",
    "    _download_artifact_from_uri,\n",
    "    _get_flavor_configuration_from_uri,\n",
    "    _validate_and_copy_code_paths,\n",
    "    _validate_and_prepare_target_save_path,\n",
    ")"
   ]
  },
  {
   "cell_type": "code",
   "execution_count": 0,
   "metadata": {
    "application/vnd.databricks.v1+cell": {
     "cellMetadata": {
      "byteLimit": 2048000,
      "rowLimit": 10000
     },
     "inputWidgets": {},
     "nuid": "cf6af768-a59f-467e-adf7-9d6bfa688b47",
     "showTitle": false,
     "tableResultSettingsMap": {},
     "title": ""
    }
   },
   "outputs": [],
   "source": [
    "dst_path = \"/Volumes/tax_dev/databricks_team/test\"\n",
    "local_model_path = _download_artifact_from_uri(artifact_uri=model_uri, output_path=dst_path)"
   ]
  },
  {
   "cell_type": "code",
   "execution_count": 0,
   "metadata": {
    "application/vnd.databricks.v1+cell": {
     "cellMetadata": {
      "byteLimit": 2048000,
      "rowLimit": 10000
     },
     "inputWidgets": {},
     "nuid": "6011b5e6-bd4d-4c8d-ad6c-b5eeadab4039",
     "showTitle": false,
     "tableResultSettingsMap": {},
     "title": ""
    }
   },
   "outputs": [],
   "source": [
    "import logging\n",
    "_logger = logging.getLogger(__name__)\n",
    "\n",
    "FLAVOR_NAME = \"sentence_transformers\"\n",
    "flavor_config = _get_flavor_configuration_from_uri(model_uri, FLAVOR_NAME, _logger)"
   ]
  },
  {
   "cell_type": "code",
   "execution_count": 0,
   "metadata": {
    "application/vnd.databricks.v1+cell": {
     "cellMetadata": {
      "byteLimit": 2048000,
      "rowLimit": 10000
     },
     "inputWidgets": {},
     "nuid": "20f04720-ef2f-476a-a881-b8d45ef03733",
     "showTitle": false,
     "tableResultSettingsMap": {},
     "title": ""
    }
   },
   "outputs": [],
   "source": [
    "flavor_config"
   ]
  },
  {
   "cell_type": "code",
   "execution_count": 0,
   "metadata": {
    "application/vnd.databricks.v1+cell": {
     "cellMetadata": {
      "byteLimit": 2048000,
      "rowLimit": 10000
     },
     "inputWidgets": {},
     "nuid": "aa67a7d0-6c06-4130-b90a-d57c41b65b18",
     "showTitle": false,
     "tableResultSettingsMap": {},
     "title": ""
    }
   },
   "outputs": [],
   "source": [
    "import pathlib\n",
    "print(local_model_path)\n",
    "SENTENCE_TRANSFORMERS_DATA_PATH = \"model.sentence_transformer\"\n",
    "local_model_dir = pathlib.Path(local_model_path).joinpath(SENTENCE_TRANSFORMERS_DATA_PATH)\n",
    "local_model_dir"
   ]
  },
  {
   "cell_type": "code",
   "execution_count": 0,
   "metadata": {
    "application/vnd.databricks.v1+cell": {
     "cellMetadata": {
      "byteLimit": 2048000,
      "rowLimit": 10000
     },
     "inputWidgets": {},
     "nuid": "8b2ce449-ec6b-4207-8512-c09b75284db2",
     "showTitle": false,
     "tableResultSettingsMap": {},
     "title": ""
    }
   },
   "outputs": [],
   "source": [
    "dbutils.fs.cp(\"file:/Workspace/Users/q.yu@databricks.com/embedding_model_adapters/custom_embedding_adapter/sbert-adapter/notebooks/adapters.py\", str(local_model_dir))"
   ]
  },
  {
   "cell_type": "code",
   "execution_count": 0,
   "metadata": {
    "application/vnd.databricks.v1+cell": {
     "cellMetadata": {
      "byteLimit": 2048000,
      "rowLimit": 10000
     },
     "inputWidgets": {},
     "nuid": "1705d29c-1d74-4f93-b92f-beae0cedb226",
     "showTitle": false,
     "tableResultSettingsMap": {},
     "title": ""
    }
   },
   "outputs": [],
   "source": [
    "from packaging.version import Version\n",
    "def _get_load_kwargs():\n",
    "    import sentence_transformers\n",
    "\n",
    "    load_kwargs = {}\n",
    "    # The trust_remote_code is supported since Sentence Transformers 2.3.0\n",
    "    if Version(sentence_transformers.__version__) >= Version(\"2.3.0\"):\n",
    "        # Always set trust_remote_code=True because we save the entire repository files in\n",
    "        # the model artifacts, so there is no risk of running untrusted code unless the logged\n",
    "        # artifact is modified by a malicious actor, which is much more broader security\n",
    "        # concern that even cannot be prevented by setting trust_remote_code=False.\n",
    "        load_kwargs[\"trust_remote_code\"] = True\n",
    "    return load_kwargs"
   ]
  },
  {
   "cell_type": "code",
   "execution_count": 0,
   "metadata": {
    "application/vnd.databricks.v1+cell": {
     "cellMetadata": {
      "byteLimit": 2048000,
      "rowLimit": 10000
     },
     "inputWidgets": {},
     "nuid": "cb32b07b-a353-4be5-ae13-15b7afec30c7",
     "showTitle": false,
     "tableResultSettingsMap": {},
     "title": ""
    }
   },
   "outputs": [],
   "source": [
    "load_kwargs = _get_load_kwargs()\n",
    "load_kwargs"
   ]
  },
  {
   "cell_type": "code",
   "execution_count": 0,
   "metadata": {
    "application/vnd.databricks.v1+cell": {
     "cellMetadata": {
      "byteLimit": 2048000,
      "rowLimit": 10000
     },
     "inputWidgets": {},
     "nuid": "11858bca-aafe-45d1-b5d6-0627b56323b2",
     "showTitle": false,
     "tableResultSettingsMap": {},
     "title": ""
    }
   },
   "outputs": [],
   "source": [
    "from sentence_transformers import SentenceTransformer"
   ]
  },
  {
   "cell_type": "code",
   "execution_count": 0,
   "metadata": {
    "application/vnd.databricks.v1+cell": {
     "cellMetadata": {
      "byteLimit": 2048000,
      "rowLimit": 10000
     },
     "inputWidgets": {},
     "nuid": "1bdcc8aa-ee6f-4eed-bd5f-34a4295513de",
     "showTitle": false,
     "tableResultSettingsMap": {},
     "title": ""
    }
   },
   "outputs": [],
   "source": [
    "str(local_model_dir)"
   ]
  },
  {
   "cell_type": "code",
   "execution_count": 0,
   "metadata": {
    "application/vnd.databricks.v1+cell": {
     "cellMetadata": {
      "byteLimit": 2048000,
      "rowLimit": 10000
     },
     "inputWidgets": {},
     "nuid": "fb47b4a9-c7cf-4fe3-8b5b-3682cdc1f0ee",
     "showTitle": false,
     "tableResultSettingsMap": {},
     "title": ""
    }
   },
   "outputs": [],
   "source": [
    "SentenceTransformer(model_name_or_path=str(local_model_dir), trust_remote_code=True)"
   ]
  },
  {
   "cell_type": "code",
   "execution_count": 0,
   "metadata": {
    "application/vnd.databricks.v1+cell": {
     "cellMetadata": {
      "byteLimit": 2048000,
      "rowLimit": 10000
     },
     "inputWidgets": {},
     "nuid": "e527963b-b211-4391-8a09-b30e6dec5d82",
     "showTitle": false,
     "tableResultSettingsMap": {},
     "title": ""
    }
   },
   "outputs": [],
   "source": [
    "from transformers.dynamic_module_utils import get_class_from_dynamic_module"
   ]
  }
 ],
 "metadata": {
  "application/vnd.databricks.v1+notebook": {
   "computePreferences": null,
   "dashboards": [],
   "environmentMetadata": {
    "base_environment": "",
    "client": "1"
   },
   "language": "python",
   "notebookMetadata": {
    "pythonIndentUnit": 4
   },
   "notebookName": "debugging",
   "widgets": {}
  },
  "language_info": {
   "name": "python"
  }
 },
 "nbformat": 4,
 "nbformat_minor": 0
}
