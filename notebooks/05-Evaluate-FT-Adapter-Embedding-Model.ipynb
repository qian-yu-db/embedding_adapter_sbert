{
 "cells": [
  {
   "cell_type": "markdown",
   "metadata": {
    "application/vnd.databricks.v1+cell": {
     "cellMetadata": {},
     "inputWidgets": {},
     "nuid": "478671d6-df76-4c6d-8011-173c645b5610",
     "showTitle": false,
     "tableResultSettingsMap": {},
     "title": ""
    }
   },
   "source": [
    "# The Notebook Will Create a Vector Search Index based on Fine-tuned Adapter Model and Perform Retriever Evaluate"
   ]
  },
  {
   "cell_type": "code",
   "execution_count": 0,
   "metadata": {
    "application/vnd.databricks.v1+cell": {
     "cellMetadata": {},
     "inputWidgets": {},
     "nuid": "6d5f7795-9776-4942-9f20-9f63056f58b9",
     "showTitle": false,
     "tableResultSettingsMap": {},
     "title": ""
    }
   },
   "outputs": [],
   "source": [
    "%pip install --quiet databricks-sdk==0.24.0\n",
    "%pip install databricks-vectorsearch tiktoken\n",
    "%pip install -U mlflow\n",
    "%pip install python-snappy==0.7.3\n",
    "%pip install torch==2.4.0 torchvision==0.19.0\n",
    "dbutils.library.restartPython()"
   ]
  },
  {
   "cell_type": "code",
   "execution_count": 0,
   "metadata": {
    "application/vnd.databricks.v1+cell": {
     "cellMetadata": {},
     "inputWidgets": {},
     "nuid": "5aa0b293-ad23-4861-badd-de9e635fe752",
     "showTitle": false,
     "tableResultSettingsMap": {},
     "title": ""
    }
   },
   "outputs": [],
   "source": [
    "dbutils.widgets.text(name=\"target_catalog\", label=\"Catalog\", defaultValue=\"dev_catalog\")\n",
    "dbutils.widgets.text(name=\"target_schema\", label=\"Schema\", defaultValue=\"dev_schema\")\n",
    "dbutils.widgets.dropdown(name=\"source_table\", label=\"Table\", defaultValue=\"chunks\", \n",
    "                         choices=[\"explore_chunks\", \"all_fulltext\", \"long_chunks\", \"short_chunks\"])\n",
    "dbutils.widgets.text(name=\"embedding_model_endpoint\", label=\"Embedding Model Endpoint\", defaultValue=\"snowflake-arctic-embed-m-long-linear-adapter\")"
   ]
  },
  {
   "cell_type": "code",
   "execution_count": 0,
   "metadata": {
    "application/vnd.databricks.v1+cell": {
     "cellMetadata": {},
     "inputWidgets": {},
     "nuid": "ebc888ae-c17c-4993-bf33-9f4e99ab6cd4",
     "showTitle": false,
     "tableResultSettingsMap": {},
     "title": ""
    }
   },
   "outputs": [],
   "source": [
    "catalog = dbutils.widgets.get(\"target_catalog\")\n",
    "schema = dbutils.widgets.get(\"target_schema\")\n",
    "table = dbutils.widgets.get(\"source_table\")\n",
    "embedding_model_endpoint = dbutils.widgets.get(\"embedding_model_endpoint\")\n",
    "print(f\"Parameters: target_catalog: {catalog}, target_schema: {schema}, source_table: {table}, embedding_model_endpoint: {embedding_model_endpoint}\")"
   ]
  },
  {
   "cell_type": "markdown",
   "metadata": {
    "application/vnd.databricks.v1+cell": {
     "cellMetadata": {},
     "inputWidgets": {},
     "nuid": "fecc5c84-ade7-40cc-8d53-cbebf3036b83",
     "showTitle": false,
     "tableResultSettingsMap": {},
     "title": ""
    }
   },
   "source": [
    "# Prepare Vector Search Index\n",
    "\n",
    "Use high_quality_chunk tables"
   ]
  },
  {
   "cell_type": "code",
   "execution_count": 0,
   "metadata": {
    "application/vnd.databricks.v1+cell": {
     "cellMetadata": {},
     "inputWidgets": {},
     "nuid": "7dda42c2-4e5a-47f3-b9f1-754db46acdeb",
     "showTitle": false,
     "tableResultSettingsMap": {},
     "title": ""
    }
   },
   "outputs": [],
   "source": [
    "from databricks.vector_search.client import VectorSearchClient\n",
    "import time\n",
    "\n",
    "vsc = VectorSearchClient()\n",
    "\n",
    "def endpoint_exists(vsc, vs_endpoint_name):\n",
    "  try:\n",
    "    return vs_endpoint_name in [e['name'] for e in vsc.list_endpoints().get('endpoints', [])]\n",
    "  except Exception as e:\n",
    "    raise e\n",
    "\n",
    "\n",
    "def wait_for_vs_endpoint_to_be_ready(vsc, vs_endpoint_name):\n",
    "  for i in range(180):\n",
    "    try:\n",
    "      endpoint = vsc.get_endpoint(vs_endpoint_name)\n",
    "    except Exception as e:\n",
    "      #Temp fix for potential REQUEST_LIMIT_EXCEEDED issue\n",
    "      if \"REQUEST_LIMIT_EXCEEDED\" in str(e):\n",
    "        print(\"WARN: couldn't get endpoint status due to REQUEST_LIMIT_EXCEEDED error. Please manually check your endpoint status\")\n",
    "        return\n",
    "      else:\n",
    "        raise e\n",
    "    status = endpoint.get(\"endpoint_status\", endpoint.get(\"status\"))[\"state\"].upper()\n",
    "    if \"ONLINE\" in status:\n",
    "      return endpoint\n",
    "    elif \"PROVISIONING\" in status or i <6:\n",
    "      if i % 20 == 0: \n",
    "        print(f\"Waiting for endpoint to be ready, this can take a few min... {endpoint}\")\n",
    "      time.sleep(10)\n",
    "    else:\n",
    "      raise Exception(f'''Error with the endpoint {vs_endpoint_name}. - this shouldn't happen: {endpoint}.\\n Please delete it and re-run the previous cell: vsc.delete_endpoint(\"{vs_endpoint_name}\")''')\n",
    "  raise Exception(f\"Timeout, your endpoint isn't ready yet: {vsc.get_endpoint(vs_endpoint_name)}\")\n",
    "\n",
    "\n",
    "def index_exists(vsc, endpoint_name, index_full_name):\n",
    "    try:\n",
    "        vsc.get_index(endpoint_name, index_full_name).describe()\n",
    "        return True\n",
    "    except Exception as e:\n",
    "        if 'RESOURCE_DOES_NOT_EXIST' not in str(e):\n",
    "            print(f'Unexpected error describing the index. This could be a permission issue.')\n",
    "            raise e\n",
    "    return False\n",
    "\n",
    "\n",
    "def wait_for_index_to_be_ready(vsc, vs_endpoint_name, index_name):\n",
    "  for i in range(180):\n",
    "    idx = vsc.get_index(vs_endpoint_name, index_name).describe()\n",
    "    index_status = idx.get('status', idx.get('index_status', {}))\n",
    "    status = index_status.get('detailed_state', index_status.get('status', 'UNKNOWN')).upper()\n",
    "    url = index_status.get('index_url', index_status.get('url', 'UNKNOWN'))\n",
    "    if \"ONLINE\" in status:\n",
    "      return\n",
    "    if \"UNKNOWN\" in status:\n",
    "      print(f\"Can't get the status - will assume index is ready {idx} - url: {url}\")\n",
    "      return\n",
    "    elif \"PROVISIONING\" in status:\n",
    "      if i % 40 == 0: print(f\"Waiting for index to be ready, this can take a few min... {index_status} - pipeline url:{url}\")\n",
    "      time.sleep(10)\n",
    "    else:\n",
    "        raise Exception(f'''Error with the index - this shouldn't happen. DLT pipeline might have been killed.\\n Please delete it and re-run the previous cell: vsc.delete_index(\"{index_name}, {vs_endpoint_name}\") \\nIndex details: {idx}''')\n",
    "  raise Exception(f\"Timeout, your index isn't ready yet: {vsc.get_index(index_name, vs_endpoint_name)}\")"
   ]
  },
  {
   "cell_type": "code",
   "execution_count": 0,
   "metadata": {
    "application/vnd.databricks.v1+cell": {
     "cellMetadata": {},
     "inputWidgets": {},
     "nuid": "6eb40218-c251-48fd-b98c-561c30c24539",
     "showTitle": false,
     "tableResultSettingsMap": {},
     "title": ""
    }
   },
   "outputs": [],
   "source": [
    "VECTOR_SEARCH_ENDPOINT_NAME = \"embedding_optimization\"\n",
    "\n",
    "if not endpoint_exists(vsc, VECTOR_SEARCH_ENDPOINT_NAME):\n",
    "    vsc.create_endpoint(name=VECTOR_SEARCH_ENDPOINT_NAME, endpoint_type=\"STANDARD\")\n",
    "\n",
    "wait_for_vs_endpoint_to_be_ready(vsc, VECTOR_SEARCH_ENDPOINT_NAME)\n",
    "print(f\"Endpoint named {VECTOR_SEARCH_ENDPOINT_NAME} is ready.\")"
   ]
  },
  {
   "cell_type": "code",
   "execution_count": 0,
   "metadata": {
    "application/vnd.databricks.v1+cell": {
     "cellMetadata": {},
     "inputWidgets": {},
     "nuid": "f902bbe7-d003-4c5e-9d94-6a736258e0eb",
     "showTitle": false,
     "tableResultSettingsMap": {},
     "title": ""
    }
   },
   "outputs": [],
   "source": [
    "from databricks.sdk import WorkspaceClient\n",
    "import databricks.sdk.service.catalog as c\n",
    "\n",
    "# source table\n",
    "source_table_fullname = f\"{catalog}.{schema}.{table}_high_quality_chunks\"\n",
    "\n",
    "# index name\n",
    "vs_index_fullname = f\"{catalog}.{schema}.{table}_high_quality_ft_chunks_vs_index\"\n",
    "\n",
    "if not index_exists(vsc, VECTOR_SEARCH_ENDPOINT_NAME, vs_index_fullname):\n",
    "  print(f\"Creating index {vs_index_fullname} on endpoint {VECTOR_SEARCH_ENDPOINT_NAME}...\")\n",
    "  vsc.create_delta_sync_index(\n",
    "    endpoint_name=VECTOR_SEARCH_ENDPOINT_NAME,\n",
    "    index_name=vs_index_fullname,\n",
    "    source_table_name=source_table_fullname,\n",
    "    pipeline_type=\"TRIGGERED\",\n",
    "    primary_key=\"id\",\n",
    "    embedding_source_column='text',\n",
    "    embedding_model_endpoint_name=embedding_model_endpoint\n",
    "  )\n",
    "  wait_for_index_to_be_ready(vsc, VECTOR_SEARCH_ENDPOINT_NAME, vs_index_fullname)\n",
    "else:\n",
    "  wait_for_index_to_be_ready(vsc, VECTOR_SEARCH_ENDPOINT_NAME, vs_index_fullname)\n",
    "  vsc.get_index(VECTOR_SEARCH_ENDPOINT_NAME, vs_index_fullname).sync()\n",
    "\n",
    "print(f\"index {vs_index_fullname} on table {source_table_fullname} is ready\")"
   ]
  },
  {
   "cell_type": "markdown",
   "metadata": {
    "application/vnd.databricks.v1+cell": {
     "cellMetadata": {},
     "inputWidgets": {},
     "nuid": "b36837dd-f718-4531-9580-df31993a09c3",
     "showTitle": false,
     "tableResultSettingsMap": {},
     "title": ""
    }
   },
   "source": [
    "# Evaluate Fine-tuned Adapter Embedding Model and Compare to Base Embedding Model"
   ]
  },
  {
   "cell_type": "code",
   "execution_count": 0,
   "metadata": {
    "application/vnd.databricks.v1+cell": {
     "cellMetadata": {},
     "inputWidgets": {},
     "nuid": "7b0fca02-4aae-4b21-9e8e-761121739859",
     "showTitle": false,
     "tableResultSettingsMap": {},
     "title": ""
    }
   },
   "outputs": [],
   "source": [
    "def get_relevant_documents(question : str, index_name : str, k : int = 3, filters : str = None, max_retries : int = 3) -> List[dict]:\n",
    "    response_received = False\n",
    "    retries = 0\n",
    "    while ((response_received == False) and (retries < max_retries)):\n",
    "        try:\n",
    "            docs = w.vector_search_indexes.query_index(\n",
    "                index_name=index_name,\n",
    "                columns=[\"uuid\",\"content\",\"category\",\"filepath\"],\n",
    "                filters_json=filters,\n",
    "                num_results=k,\n",
    "                query_text=question\n",
    "            )\n",
    "            response_received = True\n",
    "            docs_pd = pd.DataFrame(docs.result.data_array)\n",
    "            docs_pd.columns = [_c.name for _c in docs.manifest.columns]\n",
    "        except Exception as e:\n",
    "            retries += 1\n",
    "            time.sleep(1 * retries)\n",
    "            print(e)\n",
    "    return json.loads(docs_pd.to_json(orient=\"records\"))"
   ]
  },
  {
   "cell_type": "code",
   "execution_count": 0,
   "metadata": {
    "application/vnd.databricks.v1+cell": {
     "cellMetadata": {},
     "inputWidgets": {},
     "nuid": "c7990786-7074-4617-8816-43613738a1bf",
     "showTitle": false,
     "tableResultSettingsMap": {},
     "title": ""
    }
   },
   "outputs": [],
   "source": [
    "index_full_new = f\"{catalog}.{schema}.{table}_high_quality_ft_chunks_vs_index\"\n",
    "index_full_old = f\"{catalog}.{schema}.{table}_high_quality_chunks_vs_index\"\n",
    "\n",
    "def get_relevant_doc_ids(question : str, index_name : str) -> list[str]:\n",
    "    docs = get_relevant_documents(question, index_name=index_name, k=10)\n",
    "    return [_x[\"id\"] for _x in docs]"
   ]
  },
  {
   "cell_type": "code",
   "execution_count": 0,
   "metadata": {
    "application/vnd.databricks.v1+cell": {
     "cellMetadata": {},
     "inputWidgets": {},
     "nuid": "2454ff5c-d5e9-4d88-b44d-9ee54a0d405d",
     "showTitle": false,
     "tableResultSettingsMap": {},
     "title": ""
    }
   },
   "outputs": [],
   "source": [
    "eval_df = spark.table(f\"{catalog}.{schema}.{table}_quality_chunk_question_context_pairs\")\n",
    "\n",
    "eval_pd_new = eval_df.toPandas()\n",
    "eval_pd_new[\"id\"] = eval_pd_new[\"id\"].transform(lambda x: [x])\n",
    "eval_pd_new[\"retrieved_docs\"] = eval_pd_new[\"generated_question\"].transform(lambda x: get_relevant_doc_ids(x, index_full_new))\n",
    "\n",
    "eval_pd_old = eval_df.toPandas()\n",
    "eval_pd_old[\"id\"] = eval_pd_old[\"id\"].transform(lambda x: [x])\n",
    "eval_pd_old[\"retrieved_docs\"] = eval_pd_old[\"generated_question\"].transform(lambda x: get_relevant_doc_ids(x, index_full_old))\n",
    "\n",
    "display(eval_pd_new)"
   ]
  },
  {
   "cell_type": "code",
   "execution_count": 0,
   "metadata": {
    "application/vnd.databricks.v1+cell": {
     "cellMetadata": {},
     "inputWidgets": {},
     "nuid": "952ca448-72a7-41e7-9f8b-0d2c8c549c1a",
     "showTitle": false,
     "tableResultSettingsMap": {},
     "title": ""
    }
   },
   "outputs": [],
   "source": [
    "with mlflow.start_run() as run:\n",
    "    eval_results_ft = mlflow.evaluate(\n",
    "        data=eval_pd_new,\n",
    "        model_type=\"retriever\",\n",
    "        targets=\"uuid\",\n",
    "        predictions=\"retrieved_docs\",\n",
    "        evaluators=\"default\",\n",
    "        extra_metrics=[mlflow.metrics.recall_at_k(i) for i in range(1,10,1)] + [mlflow.metrics.precision_at_k(i) for i in range(1,10,1)]\n",
    "    )\n",
    "    eval_results = mlflow.evaluate(\n",
    "        data=eval_pd_old,\n",
    "        model_type=\"retriever\",\n",
    "        targets=\"uuid\",\n",
    "        predictions=\"retrieved_docs\",\n",
    "        evaluators=\"default\",\n",
    "        extra_metrics=[mlflow.metrics.recall_at_k(i) for i in range(1,10,1)] + [mlflow.metrics.precision_at_k(i) for i in range(1,10,1)]\n",
    "    )"
   ]
  },
  {
   "cell_type": "code",
   "execution_count": 0,
   "metadata": {
    "application/vnd.databricks.v1+cell": {
     "cellMetadata": {},
     "inputWidgets": {},
     "nuid": "2e998e5a-c80d-4b40-83a6-42751e972efb",
     "showTitle": false,
     "tableResultSettingsMap": {},
     "title": ""
    }
   },
   "outputs": [],
   "source": [
    "from matplotlib import pyplot as plt\n",
    "\n",
    "plt.plot([eval_results_ft.metrics[f\"recall_at_{i}/mean\"] for i in range(1,10,1)], label=\"adapter_finetuned\")\n",
    "plt.plot([eval_results.metrics[f\"recall_at_{i}/mean\"] for i in range(1,10,1)], label=\"baseline\")\n",
    "plt.title(\"Recall at k\")\n",
    "plt.xlabel(\"k\")\n",
    "plt.legend()\n",
    "plt.show()"
   ]
  },
  {
   "cell_type": "code",
   "execution_count": 0,
   "metadata": {
    "application/vnd.databricks.v1+cell": {
     "cellMetadata": {},
     "inputWidgets": {},
     "nuid": "1952cb54-a650-48fe-a294-ef8ab9df9cb6",
     "showTitle": false,
     "tableResultSettingsMap": {},
     "title": ""
    }
   },
   "outputs": [],
   "source": [
    "plt.plot([eval_results_ft.metrics[f\"precision_at_{i}/mean\"] for i in range(1,10,1)], label=\"adapter_finetuned\")\n",
    "plt.plot([eval_results.metrics[f\"precision_at_{i}/mean\"] for i in range(1,10,1)], label=\"baseline\")\n",
    "plt.title(\"Recall at k\")\n",
    "plt.xlabel(\"k\")\n",
    "plt.legend()\n",
    "plt.show()"
   ]
  },
  {
   "cell_type": "code",
   "execution_count": 0,
   "metadata": {
    "application/vnd.databricks.v1+cell": {
     "cellMetadata": {},
     "inputWidgets": {},
     "nuid": "f1713dc7-6e10-47bb-b14d-5557bf90cc86",
     "showTitle": false,
     "tableResultSettingsMap": {},
     "title": ""
    }
   },
   "outputs": [],
   "source": [
    "def f1_score(precision, recall):\n",
    "    return 2 * (precision * recall) / (precision + recall)\n",
    "\n",
    "plt.plot([f1_score(eval_results_ft.metrics[f\"recall_at_{i}/mean\"], eval_results.metrics[f\"precision_at_{i}/mean\"]) \n",
    "          for i in range(1,10,1)], label=\"F1\")\n",
    "plt.plot([f1_score(eval_results.metrics[f\"recall_at_{i}/mean\"], eval_results.metrics[f\"precision_at_{i}/mean\"]) \n",
    "          for i in range(1,10,1)], label=\"F1\")\n",
    "plt.title(\"F1 at k\")\n",
    "plt.xlabel(\"k\")\n",
    "plt.legend()\n",
    "plt.show()"
   ]
  }
 ],
 "metadata": {
  "application/vnd.databricks.v1+notebook": {
   "computePreferences": null,
   "dashboards": [],
   "environmentMetadata": {
    "base_environment": "",
    "client": "1"
   },
   "language": "python",
   "notebookMetadata": {
    "pythonIndentUnit": 4
   },
   "notebookName": "05-Evaluate-FT-Adapter-Embedding-Model",
   "widgets": {}
  },
  "language_info": {
   "name": "python"
  }
 },
 "nbformat": 4,
 "nbformat_minor": 0
}
